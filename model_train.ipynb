{
 "cells": [
  {
   "cell_type": "code",
   "execution_count": 10,
   "metadata": {},
   "outputs": [
    {
     "name": "stdout",
     "output_type": "stream",
     "text": [
      "(84,)\n",
      "(84,)\n",
      "(84,)\n",
      "(84,)\n",
      "(84,)\n",
      "(84,)\n",
      "(84,)\n",
      "(84,)\n",
      "(84,)\n",
      "(84,)\n",
      "(84,)\n",
      "(84,)\n",
      "(84,)\n",
      "(84,)\n",
      "(84,)\n",
      "(84,)\n",
      "(84,)\n",
      "(84,)\n",
      "(84,)\n",
      "(84,)\n",
      "(84,)\n",
      "(84,)\n",
      "(84,)\n",
      "(84,)\n",
      "(84,)\n",
      "(84,)\n",
      "(84,)\n",
      "(84,)\n",
      "(84,)\n",
      "(84,)\n",
      "(84,)\n",
      "(84,)\n",
      "(84,)\n",
      "(84,)\n",
      "(84,)\n"
     ]
    },
    {
     "ename": "ValueError",
     "evalue": "setting an array element with a sequence. The requested array has an inhomogeneous shape after 1 dimensions. The detected shape was (2909,) + inhomogeneous part.",
     "output_type": "error",
     "traceback": [
      "\u001b[1;31m---------------------------------------------------------------------------\u001b[0m",
      "\u001b[1;31mValueError\u001b[0m                                Traceback (most recent call last)",
      "\u001b[1;32mc:\\Users\\Tejaswa Singh\\Desktop\\Sign_Lang_Detection\\model_train.ipynb Cell 1\u001b[0m line \u001b[0;36m<cell line: 13>\u001b[1;34m()\u001b[0m\n\u001b[0;32m     <a href='vscode-notebook-cell:/c%3A/Users/Tejaswa%20Singh/Desktop/Sign_Lang_Detection/model_train.ipynb#W0sZmlsZQ%3D%3D?line=10'>11</a>\u001b[0m     \u001b[39mif\u001b[39;00m np\u001b[39m.\u001b[39marray(item)\u001b[39m.\u001b[39mshape \u001b[39m!=\u001b[39m (\u001b[39m42\u001b[39m,):\n\u001b[0;32m     <a href='vscode-notebook-cell:/c%3A/Users/Tejaswa%20Singh/Desktop/Sign_Lang_Detection/model_train.ipynb#W0sZmlsZQ%3D%3D?line=11'>12</a>\u001b[0m         \u001b[39mprint\u001b[39m(np\u001b[39m.\u001b[39marray(item)\u001b[39m.\u001b[39mshape)\n\u001b[1;32m---> <a href='vscode-notebook-cell:/c%3A/Users/Tejaswa%20Singh/Desktop/Sign_Lang_Detection/model_train.ipynb#W0sZmlsZQ%3D%3D?line=12'>13</a>\u001b[0m data \u001b[39m=\u001b[39m np\u001b[39m.\u001b[39;49masarray(data_dict[\u001b[39m'\u001b[39;49m\u001b[39mdata\u001b[39;49m\u001b[39m'\u001b[39;49m])\n\u001b[0;32m     <a href='vscode-notebook-cell:/c%3A/Users/Tejaswa%20Singh/Desktop/Sign_Lang_Detection/model_train.ipynb#W0sZmlsZQ%3D%3D?line=13'>14</a>\u001b[0m labels \u001b[39m=\u001b[39m np\u001b[39m.\u001b[39masarray(data_dict[\u001b[39m'\u001b[39m\u001b[39mlabels\u001b[39m\u001b[39m'\u001b[39m])\n\u001b[0;32m     <a href='vscode-notebook-cell:/c%3A/Users/Tejaswa%20Singh/Desktop/Sign_Lang_Detection/model_train.ipynb#W0sZmlsZQ%3D%3D?line=15'>16</a>\u001b[0m x_train, x_test, y_train, y_test \u001b[39m=\u001b[39m train_test_split(data, labels, test_size\u001b[39m=\u001b[39m\u001b[39m0.2\u001b[39m, shuffle\u001b[39m=\u001b[39m\u001b[39mTrue\u001b[39;00m, stratify\u001b[39m=\u001b[39mlabels)\n",
      "\u001b[1;31mValueError\u001b[0m: setting an array element with a sequence. The requested array has an inhomogeneous shape after 1 dimensions. The detected shape was (2909,) + inhomogeneous part."
     ]
    }
   ],
   "source": [
    "import pickle\n",
    "\n",
    "from sklearn.ensemble import RandomForestClassifier\n",
    "from sklearn.model_selection import train_test_split\n",
    "from sklearn.metrics import accuracy_score\n",
    "import numpy as np\n",
    "\n",
    "\n",
    "data_dict = pickle.load(open('./data.pickle', 'rb'))\n",
    "\n",
    "data = np.asarray(data_dict['data'])\n",
    "labels = np.asarray(data_dict['labels'])\n",
    "\n",
    "x_train, x_test, y_train, y_test = train_test_split(data, labels, test_size=0.2, shuffle=True, stratify=labels)\n",
    "\n",
    "model = RandomForestClassifier()\n",
    "\n",
    "model.fit(x_train, y_train)\n",
    "\n",
    "y_predict = model.predict(x_test)\n",
    "\n",
    "score = accuracy_score(y_predict, y_test)\n",
    "\n",
    "print('{}% of samples were classified correctly !'.format(score * 100))\n",
    "\n",
    "f = open('model.p', 'wb')\n",
    "pickle.dump({'model': model},f)\n",
    "f.close()"
   ]
  },
  {
   "cell_type": "code",
   "execution_count": null,
   "metadata": {},
   "outputs": [],
   "source": []
  }
 ],
 "metadata": {
  "kernelspec": {
   "display_name": "Python 3",
   "language": "python",
   "name": "python3"
  },
  "language_info": {
   "codemirror_mode": {
    "name": "ipython",
    "version": 3
   },
   "file_extension": ".py",
   "mimetype": "text/x-python",
   "name": "python",
   "nbconvert_exporter": "python",
   "pygments_lexer": "ipython3",
   "version": "3.10.5"
  }
 },
 "nbformat": 4,
 "nbformat_minor": 2
}
